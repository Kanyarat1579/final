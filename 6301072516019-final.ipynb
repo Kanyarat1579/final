{
 "cells": [
  {
   "cell_type": "code",
   "execution_count": 1,
   "metadata": {},
   "outputs": [],
   "source": [
    "import numpy as np\n",
    "import cv2\n",
    "import scipy\n",
    "import matplotlib.pylab as plt\n",
    "from PIL import Image\n",
    "from PIL import ImageFilter"
   ]
  },
  {
   "cell_type": "code",
   "execution_count": 2,
   "metadata": {},
   "outputs": [],
   "source": [
    "img = cv2.imread('./images/final_exam/Templates/Template-1.png')\n",
    "def preprocessing(img) :\n",
    "    img_gray = cv2.cvtColor(img, cv2.COLOR_BGR2GRAY) \n",
    "    img = cv2.cvtColor(img, cv2.COLOR_BGR2RGB) \n",
    "    return (img, img_gray) \n"
   ]
  },
  {
   "cell_type": "code",
   "execution_count": 3,
   "metadata": {},
   "outputs": [],
   "source": [
    "img =cv2.bilateralFilter(img, 15,75,75) \n",
    "template_img, template_gray = preprocessing(img) "
   ]
  },
  {
   "cell_type": "code",
   "execution_count": 4,
   "metadata": {},
   "outputs": [],
   "source": [
    "sift = cv2.SIFT_create() \n",
    "bf = cv2.BFMatcher()"
   ]
  },
  {
   "cell_type": "code",
   "execution_count": 5,
   "metadata": {},
   "outputs": [],
   "source": [
    "vid = cv2.VideoCapture('./videos/final_exam/Dataset-2/right_output.avi')\n",
    "def feature_object_detection(template_img, template_gray, frame,frame_gray, min_match_number) :\n",
    "    template_kpts, template_desc = sift.detectAndCompute(template_gray, None) # detect หาจุดระหว่าง template_kpts กับ template_desc ในภาพ template_gray\n",
    "    query_kpts, query_desc = sift.detectAndCompute(frame_gray, None) # detect หาจุดระหว่าง query_kpts กับ query_desc ใน frame_gray\n",
    "    matches = bf.knnMatch(template_desc, query_desc, k=2)  # ทำการ match กันระหว่าง template_desc กับ query_desc\n",
    "    good_matches = list() \n",
    "    good_matches_list = list()\n",
    "    for m, n in matches :\n",
    "        if m.distance < 0.8*n.distance : \n",
    "            good_matches.append(m)\n",
    "            good_matches_list.append([m])\n",
    "    \n",
    "    if len(good_matches) > min_match_number :\n",
    "       \n",
    "        src_pts = np.float32([ template_kpts[m.queryIdx].pt for m in good_matches ]).reshape(-1,1,2)\n",
    "        dst_pts = np.float32([ query_kpts[m.trainIdx].pt for m in good_matches ]).reshape(-1,1,2)\n",
    "        H, inlier_masks = cv2.findHomography(src_pts, dst_pts, cv2.RANSAC,5) #5\n",
    "        h, w = template_img.shape[:2] \n",
    "        template_box = np.float32([[0, 0], [0, h-1], [w-1, h-1], [w-1, 0]]).reshape(-1,1,2) \n",
    "        transformed_box = cv2.perspectiveTransform(template_box, H) \n",
    "        detected_img = cv2.polylines(frame, [np.int32(transformed_box)], True, (0,0,255), 3, cv2.LINE_AA) \n",
    "        drawmatch_img = cv2.drawMatchesKnn(template_img, template_kpts, detected_img, query_kpts, good_matches_list, None, flags=2, matchesMask=inlier_masks)\n",
    "        \n",
    "        cv2.imshow('detected_img', detected_img)\n",
    "        cv2.imshow('drawmatch_img',drawmatch_img)\n",
    "        return detected_img, drawmatch_img \n",
    "    else :\n",
    "        return "
   ]
  },
  {
   "cell_type": "code",
   "execution_count": 6,
   "metadata": {},
   "outputs": [],
   "source": [
    "while vid.isOpened() :\n",
    "    ret, frame = vid.read() \n",
    "    ret_1, frame_1 = vid.read()\n",
    "    freme_1=cv2 .morphologyEx ( frame_1 ,  cv2 . MORPH_OPEN  , (5,5))\n",
    "    frame_1 = cv2.bilateralFilter(frame_1, 3,75, 75)\n",
    "    freme_1=cv2 .morphologyEx ( frame_1 ,  cv2.MORPH_GRADIENT  , (5,5))\n",
    "\n",
    "    if ret :\n",
    "        \n",
    "        frame_1_gray = cv2.cvtColor( frame_1, cv2.COLOR_BGR2GRAY)\n",
    "        frame_1_gray = frame_1_gray+frame_1_gray\n",
    "        detected, drawmatch =  feature_object_detection(template_img, template_gray,frame,frame_1_gray,8) \n",
    "        if cv2.waitKey(int(1000/24)) & 0xFF == ord('q') : \n",
    "            break\n",
    "    else :\n",
    "        break\n",
    "cv2.destroyAllWindows()"
   ]
  }
 ],
 "metadata": {
  "kernelspec": {
   "display_name": "Python 3.10.6 64-bit",
   "language": "python",
   "name": "python3"
  },
  "language_info": {
   "codemirror_mode": {
    "name": "ipython",
    "version": 3
   },
   "file_extension": ".py",
   "mimetype": "text/x-python",
   "name": "python",
   "nbconvert_exporter": "python",
   "pygments_lexer": "ipython3",
   "version": "3.10.6"
  },
  "orig_nbformat": 4,
  "vscode": {
   "interpreter": {
    "hash": "afb734500600fd355917ca529030176ea0ca205570884b88f2f6f7d791fd3fbe"
   }
  }
 },
 "nbformat": 4,
 "nbformat_minor": 2
}
